{
 "cells": [
  {
   "cell_type": "markdown",
   "metadata": {},
   "source": [
    "#### Adaptive Computation and Machine Learning series\n",
    "# Deep Learning \n",
    "http://www.deeplearningbook.org/\n",
    "\n",
    "## Ch1 Introduction\n",
    "\n",
    "2016.11.19"
   ]
  },
  {
   "cell_type": "markdown",
   "metadata": {},
   "source": [
    "To know what is AI means, we may define it by the scope:\n",
    "<img src=\"Intro-AI.png\" alt=\"What is AI\" style=\"width: 50%;\"/>\n",
    "\n",
    "\n",
    "Or, we may define it by building blocks:\n",
    "<img src=\"Intro-DeepLearning.png\" alt=\"What is Deep Learning\" style=\"width: 50%;\"/>\n",
    "\n",
    "The 3 parts of this book:\n",
    "<img src=\"Intro-thisbook1.png\" alt=\"About this book\" style=\"width: 75%;\"/>\n",
    "<img src=\"Intro-thisbook2.png\" alt=\"About this book\" style=\"width: 75%;\"/>\n",
    "<img src=\"Intro-thisbook3.png\" alt=\"About this book\" style=\"width: 75%;\"/>\n",
    "\n",
    "Popular software libraries:  \n",
    "- [Theano ](http://deeplearning.net/software/theano/)\n",
    "- [PyLearn2](http://deeplearning.net/software/pylearn2/index.html)\n",
    "- [Caﬀe](http://caffe.berkeleyvision.org/)\n",
    "- [MXNet](http://mxnet.io/)\n",
    "- [TensorFlow](https://www.tensorflow.org/)\n"
   ]
  }
 ],
 "metadata": {
  "kernelspec": {
   "display_name": "Python [conda root]",
   "language": "python",
   "name": "conda-root-py"
  },
  "language_info": {
   "codemirror_mode": {
    "name": "ipython",
    "version": 3
   },
   "file_extension": ".py",
   "mimetype": "text/x-python",
   "name": "python",
   "nbconvert_exporter": "python",
   "pygments_lexer": "ipython3",
   "version": "3.5.2"
  }
 },
 "nbformat": 4,
 "nbformat_minor": 1
}

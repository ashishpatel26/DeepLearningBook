{
 "cells": [
  {
   "cell_type": "markdown",
   "metadata": {
    "nbpresent": {
     "id": "e7a139d0-d1c8-4fc7-9274-c1236f704fc4"
    },
    "raw_mimetype": "text/markdown"
   },
   "source": [
    "#### Adaptive Computation and Machine Learning series\n",
    "# Deep Learning \n",
    "http://www.deeplearningbook.org/\n",
    "\n",
    "## Ch 2 Linear Algebra\n",
    "\n",
    "2016.11.11"
   ]
  },
  {
   "cell_type": "markdown",
   "metadata": {},
   "source": [
    "### 0. Background\n",
    "\n",
    "#### What is Linear \n",
    "    y = 𝑓(x) that satisfied:\n",
    "    𝑓(x1 + x2) = 𝑓(x1) + 𝑓(x2)\n",
    "    𝑓(ax) = a 𝑓(x)\n",
    "    \n",
    " For example:\n",
    " \n",
    "  y = 2x + 3   ... is linear<br>\n",
    "  y = 2x<sub>1</sub> + x<sub>2</sub> - 5x<sub>3</sub>   ...is linear <br>\n",
    "  y = x<sup>2</sup> + 1 ... is NOT linear <br>"
   ]
  },
  {
   "cell_type": "code",
   "execution_count": 294,
   "metadata": {
    "collapsed": false
   },
   "outputs": [
    {
     "data": {
      "image/png": "[encoded data removed]",
      "text/plain": [
       "<matplotlib.figure.Figure at 0x10fd34128>"
      ]
     },
     "metadata": {},
     "output_type": "display_data"
    }
   ],
   "source": [
    "import numpy as np\n",
    "import matplotlib.pyplot as plt\n",
    "\n",
    "x = np.arange(0., 10., 0.2)\n",
    "y1 = 2 * x - 7\n",
    "y2 = 4*x**2 -40*x +30\n",
    "y3 = -10 * x + 20\n",
    "\n",
    "plt.title('Linear and non-linear function')\n",
    "plt.plot(x, y1, 'r', x, y2, 'b', x, y3, 'g')\n",
    "plt.text(2,5,'Linear')\n",
    "plt.text(1,-60,'Non-linear')\n",
    "plt.xlabel('x')\n",
    "plt.ylabel('y')\n",
    "plt.show()"
   ]
  },
  {
   "cell_type": "markdown",
   "metadata": {
    "nbpresent": {
     "id": "51da6e34-9edf-43c2-8ef2-5a9b8ab71215"
    }
   },
   "source": [
    "### 2.1 Scalar / Vector / Matrix / Tensor"
   ]
  },
  {
   "cell_type": "code",
   "execution_count": 295,
   "metadata": {
    "collapsed": false,
    "nbpresent": {
     "id": "50701eec-be08-4d84-9e89-738a80165977"
    }
   },
   "outputs": [
    {
     "name": "stdout",
     "output_type": "stream",
     "text": [
      "2\n"
     ]
    }
   ],
   "source": [
    "# Scalar\n",
    "aScalar = 2;\n",
    "print(aScalar)"
   ]
  },
  {
   "cell_type": "code",
   "execution_count": 296,
   "metadata": {
    "collapsed": false,
    "nbpresent": {
     "id": "528f4bd2-8480-45e1-8a65-a8ec5a86e7d4"
    }
   },
   "outputs": [
    {
     "name": "stdout",
     "output_type": "stream",
     "text": [
      "[1, 2, 3]\n"
     ]
    }
   ],
   "source": [
    "# Vector\n",
    "a = [1,2,3]\n",
    "print(a)"
   ]
  },
  {
   "cell_type": "markdown",
   "metadata": {
    "nbpresent": {
     "id": "0f49ab9d-c336-4ac2-9190-85dd3ef05142"
    }
   },
   "source": [
    "If we want to operate matrix, it's better to import numpy.\n",
    "[numpy](http://www.numpy.org/) is a Python package for array operation."
   ]
  },
  {
   "cell_type": "code",
   "execution_count": 297,
   "metadata": {
    "collapsed": false,
    "nbpresent": {
     "id": "cc1fa2c6-d484-41c1-8932-d8a5815fd272"
    }
   },
   "outputs": [
    {
     "name": "stdout",
     "output_type": "stream",
     "text": [
      "[[1 2 3]\n",
      " [4 5 6]]\n"
     ]
    }
   ],
   "source": [
    "#Using Numpy\n",
    "import numpy as np\n",
    "a = np.matrix('1 2 3; 4 5 6')\n",
    "print(a)"
   ]
  },
  {
   "cell_type": "markdown",
   "metadata": {
    "nbpresent": {
     "id": "457e3138-72f8-4de7-a434-4b099e828df0"
    }
   },
   "source": [
    "So far, we know Vector is one dimension array, Matrix is two dimension array (has row and column)\n",
    "\n",
    "The general idea about n dimension array is called \"Tensor\" (n is 0,1,2,3,...)"
   ]
  },
  {
   "cell_type": "markdown",
   "metadata": {},
   "source": [
    "### 2.2 Multiplying Matrices and Vectors\n",
    "\n",
    "Before we start, we need to be carefule that in numpy, array and matrix are different:\n",
    "1. Matrix is subclass of Array\n",
    "2. Matrix is limited to 2 dimension; Array could be N dimension\n",
    "3. Syntax are different"
   ]
  },
  {
   "cell_type": "code",
   "execution_count": 298,
   "metadata": {
    "collapsed": false
   },
   "outputs": [
    {
     "name": "stdout",
     "output_type": "stream",
     "text": [
      "Matrix Operation:\n",
      "matrix([[10]])\n",
      "matrix([[10]])\n",
      "matrix([[3, 2, 1],\n",
      "        [6, 4, 2],\n",
      "        [9, 6, 3]])\n",
      "matrix([[30, 20, 10],\n",
      "        [60, 40, 20],\n",
      "        [90, 60, 30]])\n",
      "Array Operation:\n",
      "10\n",
      "10\n",
      "array([[3, 2, 1],\n",
      "       [6, 4, 2],\n",
      "       [9, 6, 3]])\n",
      "array([[ 9,  4,  1],\n",
      "       [36, 16,  4],\n",
      "       [81, 36,  9]])\n"
     ]
    }
   ],
   "source": [
    "import numpy as np\n",
    "# Matrix Operations:\n",
    "m1 = np.matrix('1 2 3')\n",
    "m2 = np.matrix('3 2 1')\n",
    "m2t = np.matrix('3;2;1')\n",
    "\n",
    "mdot = np.dot(m1,m2t) # You need to take care about row and column\n",
    "minner = np.inner(m1,m2)\n",
    "mouter = np.matrix(np.outer(m1,m2)) # Notice: the result of outer is an array, not a matrix\n",
    "mmul = mouter * mouter # Real matrix product\n",
    "\n",
    "print('Matrix Operation:')\n",
    "print(repr(mdot))\n",
    "print(repr(minner))\n",
    "print(repr(mouter))\n",
    "print(repr(mmul))\n",
    "\n",
    "# Array Operations:\n",
    "a1 = np.array([1, 2, 3])\n",
    "a2 = np.array([3, 2, 1])\n",
    "a2t = np.array([[3], [2], [1]])\n",
    "\n",
    "adot = np.dot(a1,a2) # Don't care about row or column\n",
    "ainner = np.inner(a1,a2)\n",
    "aouter = np.outer(a1,a2)\n",
    "amul = aouter * aouter # Not matrix product\n",
    "\n",
    "print('Array Operation:')\n",
    "print(repr(adot))\n",
    "print(repr(ainner))\n",
    "print(repr(aouter))\n",
    "print(repr(amul))\n"
   ]
  },
  {
   "cell_type": "markdown",
   "metadata": {
    "nbpresent": {
     "id": "c316860e-b830-46aa-ad49-60983d19a6e8"
    }
   },
   "source": [
    "### 2.3 Identity Matrix  / Inverse Matrix"
   ]
  },
  {
   "cell_type": "code",
   "execution_count": 299,
   "metadata": {
    "collapsed": false,
    "nbpresent": {
     "id": "246f9dc0-d55e-4585-974c-af9f4b59f6cb"
    }
   },
   "outputs": [
    {
     "name": "stdout",
     "output_type": "stream",
     "text": [
      "[[ 1.  0.  0.]\n",
      " [ 0.  1.  0.]\n",
      " [ 0.  0.  1.]]\n"
     ]
    }
   ],
   "source": [
    "#Identity Matrix\n",
    "import numpy as np\n",
    "I = np.identity(3) # or np.eye(3)\n",
    "print(I)"
   ]
  },
  {
   "cell_type": "code",
   "execution_count": 300,
   "metadata": {
    "collapsed": false,
    "nbpresent": {
     "id": "4876a5f9-5458-4914-9119-b92fd33afd55"
    }
   },
   "outputs": [
    {
     "name": "stdout",
     "output_type": "stream",
     "text": [
      "[[1 2 3]\n",
      " [4 5 6]]\n",
      "Transpose Matrix:\n",
      "matrix([[1, 4],\n",
      "        [2, 5],\n",
      "        [3, 6]])\n"
     ]
    }
   ],
   "source": [
    "#Numpy\n",
    "import numpy as np\n",
    "a = np.matrix('1 2 3; 4 5 6')\n",
    "print(a)\n",
    "b= np.transpose(a)\n",
    "print('Transpose Matrix:\\n'+ repr(b))\n",
    "# print(b)"
   ]
  },
  {
   "cell_type": "code",
   "execution_count": 301,
   "metadata": {
    "collapsed": false,
    "nbpresent": {
     "id": "603544c1-831b-4939-aad5-9427e669fb10"
    }
   },
   "outputs": [
    {
     "name": "stdout",
     "output_type": "stream",
     "text": [
      "[[1 2 3]\n",
      " [3 1 1]\n",
      " [1 2 1]]\n",
      "Inverse Matrix:\n",
      "[[-0.1  0.4 -0.1]\n",
      " [-0.2 -0.2  0.8]\n",
      " [ 0.5 -0.  -0.5]]\n",
      "Check a * inv(a) == I :\n",
      "[[  1.00000000e+00   0.00000000e+00  -4.44089210e-16]\n",
      " [  0.00000000e+00   1.00000000e+00   0.00000000e+00]\n",
      " [  0.00000000e+00   0.00000000e+00   1.00000000e+00]]\n"
     ]
    }
   ],
   "source": [
    "#Inverse Matrix I\n",
    "import numpy as np\n",
    "a = np.matrix('1 2 3; 3 1 1; 1 2 1')\n",
    "b = np.matrix(np.linalg.inv(a))\n",
    "print(a)\n",
    "print('Inverse Matrix:')\n",
    "print(b)\n",
    "print('Check a * inv(a) == I :')\n",
    "print(a*b)"
   ]
  },
  {
   "cell_type": "markdown",
   "metadata": {
    "nbpresent": {
     "id": "36c1a849-209c-4ca0-8a31-9025cfaf4433"
    }
   },
   "source": [
    "#### Using Inverse Matrix\n",
    "Solve Ax = b:\n",
    "\n",
    "A<sup>-1</sup>Ax = A<sup>-1</sup>b\n",
    "\n",
    "Ix = b\n",
    "\n",
    "Let's see how to manipulate Matrix:"
   ]
  },
  {
   "cell_type": "code",
   "execution_count": 302,
   "metadata": {
    "collapsed": false,
    "nbpresent": {
     "id": "ce27150c-5979-4ebc-8ab1-166c7617b213"
    }
   },
   "outputs": [
    {
     "data": {
      "image/png": "[encoded data removed]",
      "text/plain": [
       "<matplotlib.figure.Figure at 0x1100e0278>"
      ]
     },
     "metadata": {},
     "output_type": "display_data"
    }
   ],
   "source": [
    "import matplotlib.pyplot as plt\n",
    "import numpy as np\n",
    "a = np.matrix('1 4 3 2 1; 4 1 6 7 8; 3 4 1 4 3; 2 3 4 1 6; 1 2 3 4 1')\n",
    "#a = np.matrix('1 2 3 4 5; 0 1 2 3 4; 0 0 1 2 3; 0 0 0 1 2; 5 0 0 0 1')\n",
    "b = np.linalg.inv(a)\n",
    "fig = plt.figure()\n",
    "fig.add_subplot(2,2,1)\n",
    "plt.title('A Matrix', fontsize=10)\n",
    "plt.imshow(a, interpolation='nearest')\n",
    "plt.colorbar()\n",
    "fig.add_subplot(2,2,2)\n",
    "plt.title('Inv(A)', fontsize=10)\n",
    "plt.imshow(b, interpolation='nearest')\n",
    "plt.colorbar()\n",
    "fig.add_subplot(2,2,3)\n",
    "plt.title('Transpose(A)', fontsize=10)\n",
    "plt.imshow(np.transpose(a), interpolation='nearest')\n",
    "plt.colorbar()\n",
    "fig.add_subplot(2,2,4)\n",
    "plt.title('A * Inv(A)', fontsize=10)\n",
    "plt.imshow(a*b, interpolation='nearest')\n",
    "plt.colorbar()\n",
    "fig.tight_layout()\n",
    "plt.show()"
   ]
  },
  {
   "cell_type": "markdown",
   "metadata": {},
   "source": [
    "**Bad News: Not all matrix can be inversed !!! **\n",
    "\n",
    "_When?_ <br>\n",
    "  Det[A] = 0 ⇔ A<sup>-1</sup> not exist"
   ]
  },
  {
   "cell_type": "markdown",
   "metadata": {},
   "source": [
    "### 2.4 Linear Dependence and Span\n",
    "\n",
    "For Ax = b (A∈R<sup>mxn</sup>, b∈R<sup>m</sup>)\n",
    "\n",
    "The span of a set of vectors is the set of all points obtainable by linear combination of the original vectors. In the case, the span is m if det|A| ≠ 0\n",
    "\n",
    "For example, the followings are dependent: <br>\n",
    "   x<sub>1</sub> + 2x<sub>2</sub> = 0 <br>\n",
    "  2x<sub>1</sub> + 4x<sub>2</sub> = 0 <br>\n",
    "\n",
    "The span decreases when dependence happeded."
   ]
  },
  {
   "cell_type": "code",
   "execution_count": 303,
   "metadata": {
    "collapsed": false
   },
   "outputs": [
    {
     "name": "stdout",
     "output_type": "stream",
     "text": [
      "matrix([[1, 2, 3],\n",
      "        [2, 4, 6],\n",
      "        [6, 2, 1]]) det is 0.0\n",
      "\n",
      "matrix([[1, 3],\n",
      "        [2, 4]]) det is -2.0\n"
     ]
    }
   ],
   "source": [
    "import numpy as np\n",
    "a = np.matrix('1 2 3; 2 4 6; 6 2 1')\n",
    "aDet = np.linalg.det(a) # Determinant\n",
    "print(repr(a) + ' det is ' + repr(aDet))\n",
    "print(\"\")\n",
    "#b = np.matrix('1 2 3; 2 1 1; 6 2 1')\n",
    "b = np.matrix('1 3; 2 4')\n",
    "bDet = np.linalg.det(b) # Determinant\n",
    "print(repr(b) + ' det is ' + repr(bDet))\n"
   ]
  },
  {
   "cell_type": "code",
   "execution_count": 304,
   "metadata": {
    "collapsed": false
   },
   "outputs": [
    {
     "data": {
      "image/png": "[encoded data removed]",
      "text/plain": [
       "<matplotlib.figure.Figure at 0x10fcf1ef0>"
      ]
     },
     "metadata": {},
     "output_type": "display_data"
    }
   ],
   "source": [
    "# See the Vectors\n",
    "from mpl_toolkits.mplot3d import Axes3D\n",
    "import matplotlib.pyplot as plt\n",
    "import numpy as np\n",
    "\n",
    "fig = plt.figure()\n",
    "ax = fig.gca(projection='3d')\n",
    "\n",
    "xs = (0,1,0,2,0,6,0)\n",
    "ys = (0,2,0,4,0,2,0)\n",
    "zs = (0,3,0,6,0,1,0)\n",
    "ax.plot(xs,ys,zs,color='r')\n",
    "ax.text(2.5,4.5,6,\"2 vectors overlap, so the space is 0\")\n",
    "\n",
    "ax.set_xlim3d(0, 8)\n",
    "ax.set_ylim3d(0, 8)\n",
    "ax.set_zlim3d(0, 8)\n",
    "\n",
    "ax.set_xlabel('X axis')\n",
    "ax.set_ylabel('Y axis')\n",
    "ax.set_zlabel('Z axis')\n",
    "fig.tight_layout()\n",
    "plt.show()\n"
   ]
  },
  {
   "cell_type": "markdown",
   "metadata": {},
   "source": [
    "** Wrap Up **\n",
    "Now we know what is determinant, and how to calculate it.<br>\n",
    "To be clear, if the equation has exactly one solution, we have non-zero determinant, we have inverse matrix.<br>\n",
    "If the equation has no solution or multiple solutions, we are doomed... <br>\n",
    "Until some smart guys \"generalized\" the concept of inverse.\n",
    "\n",
    "__Moore-Penrose Pseudoinverse (ch2.9)__\n"
   ]
  },
  {
   "cell_type": "markdown",
   "metadata": {
    "nbpresent": {
     "id": "449c2fc9-eea4-4453-a749-375a51fb078d"
    }
   },
   "source": [
    "### 2.5 [Norm](https://zh.wikipedia.org/wiki/%E8%8C%83%E6%95%B0): Measure how large is the vector\n",
    "\n",
    "Distance = (a<sup>2</sup> + b<sup>2</sup>)<sup>1/2</sup> = L<sup>2</sup> Norm\n",
    "\n",
    "Frobenius norm: ( is L<sub>2</sub> for vectore)\n",
    "  ||A||<sub>F</sub> = (∑(A<sub>i,j</sub>)<sup>2</sup>)<sup>1/2</sup>\n",
    "\n",
    "[Manhattan distance](https://zh.wikipedia.org/wiki/%E6%9B%BC%E5%93%88%E9%A0%93%E8%B7%9D%E9%9B%A2) = |a| + |b| = L<sup>1</sup> Norm\n",
    "\n",
    "What if L<sup>∞</sup> ?\n",
    "\n",
    "  Ans: (a<sup>∞</sup> + b<sup>∞</sup>)<sup>1/∞</sup>     ==>     Max(|X<sub>i</sub>|)"
   ]
  },
  {
   "cell_type": "code",
   "execution_count": 305,
   "metadata": {
    "collapsed": false
   },
   "outputs": [
    {
     "name": "stdout",
     "output_type": "stream",
     "text": [
      "Norm 1 is 4.0\n",
      "Norm 2 is 5.0\n",
      "Norm inf is 7.0\n"
     ]
    }
   ],
   "source": [
    "import numpy as np\n",
    "#a = np.matrix('3 4')\n",
    "a = np.matrix([3,4])\n",
    "#a = np.array([3,4])\n",
    "n1 = np.linalg.norm(a,ord=1)\n",
    "n2 = np.linalg.norm(a,ord=2)\n",
    "ninf = np.linalg.norm(a,ord = np.inf)\n",
    "\n",
    "print('Norm 1 is '+repr(n1))\n",
    "print('Norm 2 is '+repr(n2))\n",
    "print('Norm inf is '+repr(ninf))\n"
   ]
  },
  {
   "cell_type": "markdown",
   "metadata": {},
   "source": [
    "### 2.6 Special Kinds of Matrices and Vectors\n",
    "\n",
    "We love special matrix because we want to reduce computation.\n",
    "\n",
    "** Diagonal Matrix D that D<sub>ij</sub> = 0 when i≠j **\n",
    "  \n",
    "** Symmetric Matrix A = A<sup>T</sup> **\n",
    "\n",
    "** Orthogonal matrix A<sup>T</sup>A = AA<sup>T</sup> = I **\n",
    "\n",
    "  It implies A<sup>-1</sup> = A<sup>T</sup>  that means, it's also cheap in computation."
   ]
  },
  {
   "cell_type": "markdown",
   "metadata": {},
   "source": [
    "### 2.7 Eigen-decomposition\n",
    "We like to break things into it's consititutional parts for better understanding.\n",
    "For example, we break 12 into it's prime factors 2<sup>2</sup>*3, \n",
    "we may easily know that it can be divided by 3 but not 5.\n",
    "\n",
    "The word \"Eigen\" is from \"self\". That means eigenvalues and eigenvectors could represent itself.\n",
    "\n",
    "Notation:<br>\n",
    "Eigenvector : v <br>\n",
    "Eigenvalue : ℷ <br>\n",
    "\n",
    "**Av = ℷv** <br>\n",
    "\n",
    "**What is this means?**<br>\n",
    "  We know A is a linear transformation,<br>\n",
    "  For some direction(eigen vector), the transformation (A) will only change the scale(ℷ).<br>\n",
    "  The transformation could be represented by the set of vectors(eigen space) and ℷs.<br>\n",
    "\n",
    "**Notice:**\n",
    "  Eigen-decomposition is only defined for square matrix.\n",
    "\n",
    "**How to Solve ℷ ?** <br>\n",
    "\n",
    "IAx = I∙ℷx <br>\n",
    "Ax = ℷI x <br>\n",
    "(A - ℷI)x = 0 <br>\n",
    "det(A-ℷI) = 0 <br>\n",
    "\n",
    "You may have ℷ<sub>1</sub>,ℷ<sub>2</sub>, Apply it: <br>\n",
    "(A-ℷ<sub>1</sub>I)x = 0 ==> get v<sub>1</sub> <br>\n",
    "(A-ℷ<sub>2</sub>I)x = 0 ==> get v<sub>2</sub> <br>\n"
   ]
  },
  {
   "cell_type": "code",
   "execution_count": 306,
   "metadata": {
    "collapsed": false
   },
   "outputs": [
    {
     "name": "stdout",
     "output_type": "stream",
     "text": [
      "eigen value array([ 7.,  2.])\n",
      "eigen vector :\n",
      "matrix([[ 0.9486833 ,  0.4472136 ],\n",
      "        [ 0.31622777,  0.89442719]])\n"
     ]
    }
   ],
   "source": [
    "import numpy as np\n",
    "m1 = np.matrix('8 -3; 2 1')\n",
    "w,v = np.linalg.eig(m1)\n",
    "\n",
    "print('eigen value ' + repr(w))\n",
    "print('eigen vector :')\n",
    "print(repr(v))"
   ]
  },
  {
   "cell_type": "markdown",
   "metadata": {},
   "source": [
    "**Eigen-compsition**<br>\n",
    "Given eigenvalue and eigenvector, we may \"compose\" A back:\n",
    "\n",
    "  A = V∙diag(ℷ)∙V<sup>-1</sup><br>\n",
    "  \n",
    "   where: V = [v<sup>(1)</sup>,v<sup>(2)</sup>,...,v<sup>(n)</sup>]   ℷ = [ℷ<sup>(1)</sup>,ℷ<sup>(2)</sup>,...,ℷ<sup>(n)</sup>]"
   ]
  },
  {
   "cell_type": "markdown",
   "metadata": {},
   "source": [
    "### 2.8 Singular Value Decomposition\n",
    "\n",
    "The singular value decomposition (SVD) provides a way to factorize a matrix, into singular vectors and singular values. The SVD allows us to discover some of the same kind of information as the eigendecomposition.\n",
    "\n",
    "  Eigen-composition: A = V∙diag(ℷ)∙V<sup>-1</sup><br>\n",
    "  Singular compostion: A<sub>m×n</sub> = U<sub>m×m</sub>∙D<sub>m×n</sub>∙V<sub>n×n</sub><sup>T</sup>\n",
    "\n",
    "   U: Left singular vector\n",
    "   D: Singular value\n",
    "   V: Right singular vector\n"
   ]
  },
  {
   "cell_type": "code",
   "execution_count": 307,
   "metadata": {
    "collapsed": false
   },
   "outputs": [
    {
     "name": "stdout",
     "output_type": "stream",
     "text": [
      "Left Singular vector matrix([[-0.7478604 ,  0.65309304, -0.11905587],\n",
      "        [-0.6572926 , -0.75361753, -0.00520144],\n",
      "        [-0.09311961,  0.07436459,  0.99287393]])\n",
      "Singular value array([ 9.7701779 ,  7.1160757 ,  0.95136243])\n",
      "Right Singular vector matrix([[-0.75644355,  0.16236026, -0.6147484 , -0.15335162],\n",
      "        [ 0.53286025, -0.38123494, -0.7554511 , -0.00367617],\n",
      "        [ 0.03155907,  0.36996013, -0.16888133,  0.91302389],\n",
      "        [-0.37796447, -0.83152184,  0.15118579,  0.37796447]])\n"
     ]
    }
   ],
   "source": [
    "import numpy as np\n",
    "m1 = np.matrix('8 -3 1 1; 2 1 8 1; 1 0 0 1')\n",
    "u,s,v = np.linalg.svd(m1)\n",
    "\n",
    "print('Left Singular vector ' + repr(u))\n",
    "print('Singular value ' + repr(s))\n",
    "print('Right Singular vector ' + repr(v))"
   ]
  },
  {
   "cell_type": "markdown",
   "metadata": {},
   "source": [
    "### 2.9 Moore-Penrose Pseudoinverse\n",
    "x = A<sup>+</sup>y\n",
    "\n",
    "[Moore-Penrose Pseudoinverse from Wikipedia](https://zh.wikipedia.org/wiki/%E6%91%A9%E5%B0%94%EF%BC%8D%E5%BD%AD%E8%8B%A5%E6%96%AF%E5%B9%BF%E4%B9%89%E9%80%86)\n",
    "\n",
    "In short:<br>\n",
    "  If the equation has only one solution, fine, you get the same result as inverse.<br>\n",
    "  If no solution, pseudo-inverse gives us the solution with the smallest error ||Ax-y||<sub>2</sub><br>\n",
    "  If many solutions, pseudo-inverse gives us the solution with the smallest norm of x.<br>\n",
    "\n",
    "**You got an answer anyway.** And super easy to use it in your code:\n"
   ]
  },
  {
   "cell_type": "code",
   "execution_count": 308,
   "metadata": {
    "collapsed": false,
    "nbpresent": {
     "id": "d1cb0bb2-737a-4e89-9bea-43a74510bf0f"
    }
   },
   "outputs": [
    {
     "name": "stdout",
     "output_type": "stream",
     "text": [
      "[[1 2 3]\n",
      " [2 4 6]]\n",
      "nxm matrix ==> mxn matrix\n",
      "[[ 0.01428571  0.02857143]\n",
      " [ 0.02857143  0.05714286]\n",
      " [ 0.04285714  0.08571429]]\n"
     ]
    }
   ],
   "source": [
    "#Inverse Matrix II\n",
    "# The pseudo-inverse of a matrix A, denoted A^+, is defined as: \n",
    "# “the matrix that ‘solves’ [the least-squares problem] Ax = b,” \n",
    "import numpy as np\n",
    "a = np.matrix('1 2 3; 2 4 6')\n",
    "b = np.linalg.pinv(a) # Moore-Penrose Pseudoinverse\n",
    "print(a)\n",
    "print('nxm matrix ==> mxn matrix')\n",
    "print(b)"
   ]
  },
  {
   "cell_type": "markdown",
   "metadata": {},
   "source": [
    "### 2.10 The Trace Operator\n",
    "\n",
    "**Tr(A) = ∑A<sub>ii</sub>** <br>\n",
    "\n",
    "Tr(A+B) = Tr(A) + Tr(B) <br>\n",
    "Tr(rA) = r∙Tr(A) <br>\n",
    "Tr(AB) = Tr(BA) <br>\n"
   ]
  },
  {
   "cell_type": "code",
   "execution_count": 309,
   "metadata": {
    "collapsed": false
   },
   "outputs": [
    {
     "name": "stdout",
     "output_type": "stream",
     "text": [
      "9 4 21 21\n"
     ]
    }
   ],
   "source": [
    "import numpy as np\n",
    "m1 = np.matrix('8 -3; 2 1')\n",
    "m2 = np.matrix('2 3; 1 2')\n",
    "\n",
    "tr1 = np.trace(m1)\n",
    "tr2 = np.trace(m2)\n",
    "tr12 = np.trace(m1*m2)\n",
    "tr21 = np.trace(m2*m1)\n",
    "\n",
    "print(tr1, tr2, tr12, tr21)"
   ]
  },
  {
   "cell_type": "markdown",
   "metadata": {},
   "source": [
    "### 2.11 The Determinant"
   ]
  },
  {
   "cell_type": "markdown",
   "metadata": {
    "nbpresent": {
     "id": "ad483e9f-b4eb-4bc6-ab08-e0018f30d8bf"
    }
   },
   "source": [
    "[Belows are referenced from Wikipedia](https://zh.wikipedia.org/wiki/%E8%A1%8C%E5%88%97%E5%BC%8F)\n",
    "\n",
    "  Det(A) = |A|  Determinant is a function mapping a NxN matrix to a scalar (value)\n",
    "  <img src=\"https://wikimedia.org/api/rest_v1/media/math/render/svg/f21caeb47d9a97321128e8f384255b6d5453edb4\">\n",
    "  <img src=\"https://upload.wikimedia.org/wikipedia/commons/4/4d/Determinant-columns.png\">\n",
    "  <br>\n",
    "\n",
    "  Or, we may see it as Area of 2 vectors in 2D, or Space of 3 vectors in 3D\n",
    "  <img src=\"https://wikimedia.org/api/rest_v1/media/math/render/svg/78513743f73b477d803ae8d084e8e2ddb9d07933\">\n",
    "  <img src=\"https://upload.wikimedia.org/wikipedia/commons/d/db/Parallelogramme.JPG\">\n",
    "  \n",
    "[Above are referenced from Wikipedia](https://zh.wikipedia.org/wiki/%E8%A1%8C%E5%88%97%E5%BC%8F)\n",
    "\n",
    "  Simple calculation (a+b)*(c+d) - bd - ac - 2bc = ad - bc\n",
    "  \n",
    "  Let's see how to calculate determinant in Python:\n"
   ]
  },
  {
   "cell_type": "markdown",
   "metadata": {},
   "source": [
    "### 2.12 Example: Principal Components Analysis (PCA)\n",
    "\n",
    "Suppose we have a collection of m points {x<sup>(1)</sup>, . . . , x<sup>(m)</sup>} in ℝ<sup>n</sup>. Suppose we would like to apply lossy compression to these points. One way to compress is lower the dimension. So we need to find a function let 𝑓(x) = c, c∈ℝ<sup>l</sup>, l < n. 𝑓(x) encode the data x to c, and 𝒈(c) = Dc = 𝑓<sup>-1</sup>(x).\n",
    "\n",
    "c<sup>*</sup> = argmin ||x - 𝒈(c)||<sub>2</sub>\n",
    "\n",
    "c<sup>*</sup> = argmin ||x - 𝒈(c)||<sub>2</sub><sup>2</sup>\n",
    "\n",
    " argmin((x - 𝒈(c))<sup>T</sup>(x - 𝒈(c))) = argmin(−2x<sup>T</sup>Dc + c<sup>T</sup>c)\n",
    "\n",
    " Using Vector Calculus, we got c = 𝑓(x) = D<sup>T</sup>x\n",
    " \n",
    " ==> 𝒈(c) = Dc = D∙D<sup>T</sup>x\n",
    " \n",
    " Next, we need to choose the encoding matrix D... \n",
    " Choose l = 1, D is written as d, and recover the first principal component.\n",
    "\n",
    "---\n",
    "** What is PCA in concept? **<br>\n",
    "It's mapping data to maximize the deviation in one axis (which is the principle component) then we may ignore the orthogonal one with the minimized error. Then the dimension could be reduced.\n",
    "\n",
    "[PCA Video from Udacity](https://www.youtube.com/embed/kw9R0nD69OU)\n",
    "\n",
    "\n"
   ]
  }
 ],
 "metadata": {
  "anaconda-cloud": {},
  "celltoolbar": "Raw Cell Format",
  "kernelspec": {
   "display_name": "Python [conda root]",
   "language": "python",
   "name": "conda-root-py"
  },
  "language_info": {
   "codemirror_mode": {
    "name": "ipython",
    "version": 3
   },
   "file_extension": ".py",
   "mimetype": "text/x-python",
   "name": "python",
   "nbconvert_exporter": "python",
   "pygments_lexer": "ipython3",
   "version": "3.5.2"
  },
  "nbpresent": {
   "slides": {
    "0a2cb8f7-1df4-4421-883b-4cfdca0a9582": {
     "id": "0a2cb8f7-1df4-4421-883b-4cfdca0a9582",
     "prev": "e26b67cf-c13f-4505-a5c9-4dc4a6f32dba",
     "regions": {
      "809cb7fa-1a9b-4800-a4f0-91b77a85ad99": {
       "attrs": {
        "height": 0.8,
        "width": 0.8,
        "x": 0.1,
        "y": 0.1
       },
       "content": {
        "cell": "ad483e9f-b4eb-4bc6-ab08-e0018f30d8bf",
        "part": "whole"
       },
       "id": "809cb7fa-1a9b-4800-a4f0-91b77a85ad99"
      }
     }
    },
    "0eb769aa-ef31-4207-9bf3-b6cb61ee3bf8": {
     "id": "0eb769aa-ef31-4207-9bf3-b6cb61ee3bf8",
     "prev": "71743959-beda-418f-b474-f4f44faeb88d",
     "regions": {
      "17e643f9-b3b4-47dc-934f-4eee9bdbf341": {
       "attrs": {
        "height": 0.8,
        "width": 0.8,
        "x": 0.1,
        "y": 0.1
       },
       "content": {
        "cell": "449c2fc9-eea4-4453-a749-375a51fb078d",
        "part": "whole"
       },
       "id": "17e643f9-b3b4-47dc-934f-4eee9bdbf341"
      }
     }
    },
    "15372bbd-72bc-46b7-85fb-4aae8e785827": {
     "id": "15372bbd-72bc-46b7-85fb-4aae8e785827",
     "prev": "7aa2b3b8-d870-43a5-bac0-9a11e0b68548",
     "regions": {
      "5f28d599-918e-4352-90e6-34ac4809338f": {
       "attrs": {
        "height": 0.8,
        "width": 0.8,
        "x": 0.1,
        "y": 0.1
       },
       "content": {
        "cell": "cc1fa2c6-d484-41c1-8932-d8a5815fd272",
        "part": "whole"
       },
       "id": "5f28d599-918e-4352-90e6-34ac4809338f"
      }
     }
    },
    "2118d540-f7e1-4b80-b6d3-31f41e2570bb": {
     "id": "2118d540-f7e1-4b80-b6d3-31f41e2570bb",
     "prev": "543842e3-d6a2-45e7-9f45-019b848628ce",
     "regions": {
      "8eb4287b-4dcc-4b32-abff-3ed6334e4791": {
       "attrs": {
        "height": 0.8,
        "width": 0.8,
        "x": 0.1,
        "y": 0.1
       },
       "content": {
        "cell": "246f9dc0-d55e-4585-974c-af9f4b59f6cb",
        "part": "whole"
       },
       "id": "8eb4287b-4dcc-4b32-abff-3ed6334e4791"
      }
     }
    },
    "33d608ae-8762-4017-9084-4c4a3c24f2a4": {
     "id": "33d608ae-8762-4017-9084-4c4a3c24f2a4",
     "prev": "0eb769aa-ef31-4207-9bf3-b6cb61ee3bf8",
     "regions": {
      "30f53baa-6af1-4dc6-bb62-14a5d60f5a8d": {
       "attrs": {
        "height": 0.8,
        "width": 0.8,
        "x": 0.1,
        "y": 0.1
       },
       "content": {
        "cell": "36c1a849-209c-4ca0-8a31-9025cfaf4433",
        "part": "whole"
       },
       "id": "30f53baa-6af1-4dc6-bb62-14a5d60f5a8d"
      }
     }
    },
    "3a5f1d3c-2de4-4f92-9cc2-9e0e86aeae69": {
     "id": "3a5f1d3c-2de4-4f92-9cc2-9e0e86aeae69",
     "prev": "33d608ae-8762-4017-9084-4c4a3c24f2a4",
     "regions": {
      "d4ecfd6a-5edb-4fb7-b271-61b495348147": {
       "attrs": {
        "height": 0.8,
        "width": 0.8,
        "x": 0.1,
        "y": 0.1
       },
       "content": {
        "cell": "ce27150c-5979-4ebc-8ab1-166c7617b213",
        "part": "whole"
       },
       "id": "d4ecfd6a-5edb-4fb7-b271-61b495348147"
      }
     }
    },
    "3cbc8fc2-b7d9-422d-900d-2ba4fa702da9": {
     "id": "3cbc8fc2-b7d9-422d-900d-2ba4fa702da9",
     "prev": "8678a975-83fc-4172-b99c-37fc0622b0d1",
     "regions": {
      "06ea2e9e-8eb1-463c-9163-6f1f6a72e977": {
       "attrs": {
        "height": 0.8,
        "width": 0.8,
        "x": 0.1,
        "y": 0.1
       },
       "content": {
        "cell": "51da6e34-9edf-43c2-8ef2-5a9b8ab71215",
        "part": "whole"
       },
       "id": "06ea2e9e-8eb1-463c-9163-6f1f6a72e977"
      }
     }
    },
    "543842e3-d6a2-45e7-9f45-019b848628ce": {
     "id": "543842e3-d6a2-45e7-9f45-019b848628ce",
     "prev": "c4096e14-c708-43f0-bed8-fb317ce0f258",
     "regions": {
      "543fe79e-041e-4d0f-9cc5-0c9136c92ef3": {
       "attrs": {
        "height": 0.8,
        "width": 0.8,
        "x": 0.1,
        "y": 0.1
       },
       "content": {
        "cell": "c316860e-b830-46aa-ad49-60983d19a6e8",
        "part": "whole"
       },
       "id": "543fe79e-041e-4d0f-9cc5-0c9136c92ef3"
      }
     }
    },
    "71743959-beda-418f-b474-f4f44faeb88d": {
     "id": "71743959-beda-418f-b474-f4f44faeb88d",
     "prev": "0a2cb8f7-1df4-4421-883b-4cfdca0a9582",
     "regions": {
      "411d69ae-f3f8-4c49-90a3-935adfd021cf": {
       "attrs": {
        "height": 0.8,
        "width": 0.8,
        "x": 0.1,
        "y": 0.1
       },
       "content": {
        "cell": "d1cb0bb2-737a-4e89-9bea-43a74510bf0f",
        "part": "whole"
       },
       "id": "411d69ae-f3f8-4c49-90a3-935adfd021cf"
      }
     }
    },
    "7aa2b3b8-d870-43a5-bac0-9a11e0b68548": {
     "id": "7aa2b3b8-d870-43a5-bac0-9a11e0b68548",
     "prev": "c5e8466f-159f-4f9a-99f5-42ee2cdd548c",
     "regions": {
      "d7badd13-8f3a-4b96-aafc-fb47a7825d1e": {
       "attrs": {
        "height": 0.8,
        "width": 0.8,
        "x": 0.1,
        "y": 0.1
       },
       "content": {
        "cell": "0f49ab9d-c336-4ac2-9190-85dd3ef05142",
        "part": "whole"
       },
       "id": "d7badd13-8f3a-4b96-aafc-fb47a7825d1e"
      }
     }
    },
    "8678a975-83fc-4172-b99c-37fc0622b0d1": {
     "id": "8678a975-83fc-4172-b99c-37fc0622b0d1",
     "prev": null,
     "regions": {
      "e99dc1a1-e9d8-4832-a962-f13edb3880c9": {
       "attrs": {
        "height": 0.8,
        "width": 0.8,
        "x": 0.1,
        "y": 0.1
       },
       "content": {
        "cell": "e7a139d0-d1c8-4fc7-9274-c1236f704fc4",
        "part": "whole"
       },
       "id": "e99dc1a1-e9d8-4832-a962-f13edb3880c9"
      }
     }
    },
    "93c35cdc-9b8b-4f62-8971-da6356a72aca": {
     "id": "93c35cdc-9b8b-4f62-8971-da6356a72aca",
     "prev": "2118d540-f7e1-4b80-b6d3-31f41e2570bb",
     "regions": {
      "784903ca-466f-4a50-89f3-ee6595a21bec": {
       "attrs": {
        "height": 0.8,
        "width": 0.8,
        "x": 0.1,
        "y": 0.1
       },
       "content": {
        "cell": "4876a5f9-5458-4914-9119-b92fd33afd55",
        "part": "whole"
       },
       "id": "784903ca-466f-4a50-89f3-ee6595a21bec"
      }
     }
    },
    "c4096e14-c708-43f0-bed8-fb317ce0f258": {
     "id": "c4096e14-c708-43f0-bed8-fb317ce0f258",
     "prev": "15372bbd-72bc-46b7-85fb-4aae8e785827",
     "regions": {
      "eda0d5bc-e819-4140-94b6-1d6029c511a3": {
       "attrs": {
        "height": 0.8,
        "width": 0.8,
        "x": 0.1,
        "y": 0.1
       },
       "content": {
        "cell": "457e3138-72f8-4de7-a434-4b099e828df0",
        "part": "whole"
       },
       "id": "eda0d5bc-e819-4140-94b6-1d6029c511a3"
      }
     }
    },
    "c5e8466f-159f-4f9a-99f5-42ee2cdd548c": {
     "id": "c5e8466f-159f-4f9a-99f5-42ee2cdd548c",
     "prev": "e3050300-f54c-43bc-b8a7-cede9836af3d",
     "regions": {
      "7964a4e3-630f-4938-83ac-2ad08ba76e46": {
       "attrs": {
        "height": 0.8,
        "width": 0.8,
        "x": 0.1,
        "y": 0.1
       },
       "content": {
        "cell": "528f4bd2-8480-45e1-8a65-a8ec5a86e7d4",
        "part": "whole"
       },
       "id": "7964a4e3-630f-4938-83ac-2ad08ba76e46"
      }
     }
    },
    "e26b67cf-c13f-4505-a5c9-4dc4a6f32dba": {
     "id": "e26b67cf-c13f-4505-a5c9-4dc4a6f32dba",
     "prev": "93c35cdc-9b8b-4f62-8971-da6356a72aca",
     "regions": {
      "45b7e2d2-b8fc-4e72-9496-b07a9428f7d7": {
       "attrs": {
        "height": 0.8,
        "width": 0.8,
        "x": 0.1,
        "y": 0.1
       },
       "content": {
        "cell": "603544c1-831b-4939-aad5-9427e669fb10",
        "part": "whole"
       },
       "id": "45b7e2d2-b8fc-4e72-9496-b07a9428f7d7"
      }
     }
    },
    "e3050300-f54c-43bc-b8a7-cede9836af3d": {
     "id": "e3050300-f54c-43bc-b8a7-cede9836af3d",
     "prev": "3cbc8fc2-b7d9-422d-900d-2ba4fa702da9",
     "regions": {
      "83c14d7a-9718-4e71-a81a-ea1065ec56ff": {
       "attrs": {
        "height": 0.8,
        "width": 0.8,
        "x": 0.1,
        "y": 0.1
       },
       "content": {
        "cell": "50701eec-be08-4d84-9e89-738a80165977",
        "part": "whole"
       },
       "id": "83c14d7a-9718-4e71-a81a-ea1065ec56ff"
      }
     }
    }
   },
   "themes": {
    "default": "a0c80846-39c2-4c51-adba-86652fe016bc",
    "theme": {
     "a0c80846-39c2-4c51-adba-86652fe016bc": {
      "id": "a0c80846-39c2-4c51-adba-86652fe016bc",
      "palette": {
       "19cc588f-0593-49c9-9f4b-e4d7cc113b1c": {
        "id": "19cc588f-0593-49c9-9f4b-e4d7cc113b1c",
        "rgb": [
         252,
         252,
         252
        ]
       },
       "31af15d2-7e15-44c5-ab5e-e04b16a89eff": {
        "id": "31af15d2-7e15-44c5-ab5e-e04b16a89eff",
        "rgb": [
         68,
         68,
         68
        ]
       },
       "50f92c45-a630-455b-aec3-788680ec7410": {
        "id": "50f92c45-a630-455b-aec3-788680ec7410",
        "rgb": [
         155,
         177,
         192
        ]
       },
       "c5cc3653-2ee1-402a-aba2-7caae1da4f6c": {
        "id": "c5cc3653-2ee1-402a-aba2-7caae1da4f6c",
        "rgb": [
         43,
         126,
         184
        ]
       },
       "efa7f048-9acb-414c-8b04-a26811511a21": {
        "id": "efa7f048-9acb-414c-8b04-a26811511a21",
        "rgb": [
         25.118061674008803,
         73.60176211453744,
         107.4819383259912
        ]
       }
      },
      "rules": {
       "blockquote": {
        "color": "50f92c45-a630-455b-aec3-788680ec7410"
       },
       "code": {
        "font-family": "Anonymous Pro"
       },
       "h1": {
        "color": "c5cc3653-2ee1-402a-aba2-7caae1da4f6c",
        "font-family": "Lato",
        "font-size": 8
       },
       "h2": {
        "color": "c5cc3653-2ee1-402a-aba2-7caae1da4f6c",
        "font-family": "Lato",
        "font-size": 6
       },
       "h3": {
        "color": "50f92c45-a630-455b-aec3-788680ec7410",
        "font-family": "Lato",
        "font-size": 5.5
       },
       "h4": {
        "color": "c5cc3653-2ee1-402a-aba2-7caae1da4f6c",
        "font-family": "Lato",
        "font-size": 5
       },
       "h5": {
        "font-family": "Lato"
       },
       "h6": {
        "font-family": "Lato"
       },
       "h7": {
        "font-family": "Lato"
       },
       "pre": {
        "font-family": "Anonymous Pro",
        "font-size": 4
       }
      },
      "text-base": {
       "font-family": "Merriweather",
       "font-size": 4
      }
     }
    }
   }
  }
 },
 "nbformat": 4,
 "nbformat_minor": 1
}
